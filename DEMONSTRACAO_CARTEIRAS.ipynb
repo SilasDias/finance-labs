{
  "nbformat": 4,
  "nbformat_minor": 0,
  "metadata": {
    "colab": {
      "name": "DEMONSTRACAO_CARTEIRAS.ipynb",
      "provenance": [],
      "toc_visible": true,
      "include_colab_link": true
    },
    "kernelspec": {
      "name": "python3",
      "display_name": "Python 3"
    }
  },
  "cells": [
    {
      "cell_type": "markdown",
      "metadata": {
        "id": "view-in-github",
        "colab_type": "text"
      },
      "source": [
        "<a href=\"https://colab.research.google.com/github/b0nn13/finance-labs/blob/master/DEMONSTRACAO_CARTEIRAS.ipynb\" target=\"_parent\"><img src=\"https://colab.research.google.com/assets/colab-badge.svg\" alt=\"Open In Colab\"/></a>"
      ]
    },
    {
      "cell_type": "markdown",
      "metadata": {
        "id": "kvd8f03xyW1-",
        "colab_type": "text"
      },
      "source": [
        "# DEMONSTRAÇÃO DE CARTEIRA\n",
        "## MODELO DE MARKOWITZ\n",
        "### Responsável: Danilo Alcântara  Milhomem\n",
        "### Data: 06/02/2020\n",
        "### Mestrado em Engenharia de Produção e Sistemas - MEPROS - PUC Goiás\n",
        "### Linha de pesquisa: Otimização de portfólio\n",
        "### Orientador (a): Dra. Maria José Pereira Dantas"
      ]
    },
    {
      "cell_type": "code",
      "metadata": {
        "id": "i2J4TTaRym9A",
        "colab_type": "code",
        "colab": {}
      },
      "source": [
        "import numpy as np\n",
        "import pandas as pd\n",
        "from pandas_datareader import data as wb\n",
        "import matplotlib.pyplot as plt\n",
        "from google.colab import files\n",
        "import seaborn as sns\n",
        "import datetime\n",
        "sns.set_style('whitegrid')\n",
        "%matplotlib inline \n",
        "#Este ultimo recurso é específico para usuários do jupyter Notebook. Ele facilita a plotagem de \n",
        "# gráficos do matplotlib logo abaixo das células de código e o armazenamento  delas no documento\n",
        "# do notebook."
      ],
      "execution_count": 0,
      "outputs": []
    },
    {
      "cell_type": "markdown",
      "metadata": {
        "id": "IxMa7ObJ5YcR",
        "colab_type": "text"
      },
      "source": [
        "# 1ª ATIVOS DA ANÁLISE QUANTI\n"
      ]
    },
    {
      "cell_type": "markdown",
      "metadata": {
        "id": "DiKQApJqHL01",
        "colab_type": "text"
      },
      "source": [
        "### 1º CARTEIRA: 6 ATIVOS"
      ]
    },
    {
      "cell_type": "code",
      "metadata": {
        "id": "zqf0eaYr2tZQ",
        "colab_type": "code",
        "colab": {}
      },
      "source": [
        "# INSERIR OS TICKERS DOS ATIVOS QUE SE DESEJAS ANALISAR\n",
        "ativos = ['CMIG4.SA', 'EQTL3.SA', 'MRFG3.SA', 'MULT3.SA', 'RADL3.SA', 'WEGE3.SA']\n",
        "start = datetime.datetime(2009, 1, 1)\n",
        "end = datetime.datetime(2020, 2, 4)\n",
        "# DEFNIR A VARIAVEL, QUE RECBERÁ O PREÇO DOS ATIVOS COMO UM DATAFRAME:\n",
        "\n",
        "\n",
        "pf_data = pd.DataFrame(columns= ativos) \n",
        "\n",
        "for a in ativos:\n",
        "  pf_data[a] = wb.DataReader(a, data_source = 'yahoo', start= start, end= end)['Adj Close']\n",
        "\n",
        "# VERIFICAR EM QUAIS COLUNAS E EM QUE QUANTIDADE ESTÃO PRESENTES OS DADOS FALTANTES:\n",
        "pf_data.isnull().sum() "
      ],
      "execution_count": 0,
      "outputs": []
    },
    {
      "cell_type": "code",
      "metadata": {
        "id": "ZMLR3fFQ3bTB",
        "colab_type": "code",
        "colab": {}
      },
      "source": [
        "# RETIRAR DADOS FALTANTES DO CONJUNTO DE DADOS:\n",
        "pf_data = pf_data.dropna(subset=['EQTL3.SA', 'MRFG3.SA', 'MULT3.SA', 'RADL3.SA', 'WEGE3.SA'])"
      ],
      "execution_count": 0,
      "outputs": []
    },
    {
      "cell_type": "code",
      "metadata": {
        "id": "b2WQiH-i4GxZ",
        "colab_type": "code",
        "colab": {}
      },
      "source": [
        "# CALCULAR OS RETORNOS DOS ATIVOS:\n",
        "returns = pd.DataFrame()\n",
        "for item in ativos:\n",
        "    returns[item ] = pf_data[item].pct_change()\n",
        "\n",
        "returns.corr()\n"
      ],
      "execution_count": 0,
      "outputs": []
    },
    {
      "cell_type": "code",
      "metadata": {
        "id": "DiYarj3X4iyK",
        "colab_type": "code",
        "colab": {}
      },
      "source": [
        "#  Crie um mapa de calor da correlação entre os preços de fechamento ajustado das ações. \n",
        "sns.heatmap(returns.corr(), annot=True, linewidths=2 , fmt='.4');\n",
        "mask = np.triu(np.ones_like('nome da matriz de covariancia', dtype = np.bool))\n",
        "sns.heatmap(returns.corr(), mask = mask, annot=True, linewidths=2 , fmt='.4', square = true, center = 0, linewidths = 0.25, ax = axis[1]);"
      ],
      "execution_count": 0,
      "outputs": []
    },
    {
      "cell_type": "code",
      "metadata": {
        "id": "B5YDS1-M48uD",
        "colab_type": "code",
        "colab": {}
      },
      "source": [
        "# COMPARAR OS ATIVOS EM RELAÇÃO AO EVOLUÇÃO DOS PREÇOS\n",
        "data = (pf_data/pf_data.iloc[0] * 100).plot(figsize=(10,10))"
      ],
      "execution_count": 0,
      "outputs": []
    },
    {
      "cell_type": "markdown",
      "metadata": {
        "id": "tff32bO0HVY_",
        "colab_type": "text"
      },
      "source": [
        "## 2ª CARTEIRA: 10 ATIVOS"
      ]
    },
    {
      "cell_type": "code",
      "metadata": {
        "id": "NkiYGGsH5mPJ",
        "colab_type": "code",
        "colab": {}
      },
      "source": [
        "# INSERIR OS TICKERS DOS ATIVOS QUE SE DESEJAS ANALISAR\n",
        "ativos = ['CSAN3.SA', 'EQTL3.SA', 'GOLL4.SA', 'LREN3.SA', 'NATU3.SA', 'RADL3.SA', 'RENT3.SA', 'SBSP3.SA', 'VIVT4.SA', 'WEGE3.SA']\n",
        "start = datetime.datetime(2009, 1, 1)\n",
        "end = datetime.datetime(2020, 2, 4)\n",
        "# DEFNIR A VARIAVEL, QUE RECBERÁ O PREÇO DOS ATIVOS COMO UM DATAFRAME:\n",
        "\n",
        "pf_data = pd.DataFrame(columns= ativos)\n",
        "\n",
        "for a in ativos:\n",
        "  pf_data[a] = wb.DataReader(a, data_source = 'yahoo', start= start, end= end)['Adj Close']\n",
        "\n",
        "# VERIFICAR EM QUAIS COLUNAS E EM QUE QUANTIDADE ESTÃO PRESENTES OS DADOS FALTANTES:\n",
        "pf_data.isnull().sum()\n",
        "\n",
        "# RETIRAR DADOS FALTANTES DO CONJUNTO DE DADOS:\n",
        "pf_data = pf_data.dropna(subset=['EQTL3.SA', 'GOLL4.SA', 'LREN3.SA', 'NATU3.SA', 'RENT3.SA', 'VIVT4.SA', 'WEGE3.SA'])\n",
        "returns = pd.DataFrame()\n",
        "for item in ativos:\n",
        "    returns[item ] = pf_data[item].pct_change()"
      ],
      "execution_count": 0,
      "outputs": []
    },
    {
      "cell_type": "code",
      "metadata": {
        "id": "Q-cfNxwe7j6L",
        "colab_type": "code",
        "colab": {}
      },
      "source": [
        "#  Crie um mapa de calor da correlação entre os preços de fechamento ajustado das ações. \n",
        "sns.heatmap(returns.corr(), annot=True, linewidths=2 , fmt='.4');\n",
        "mask = np.triu(np.ones_like('nome da matriz de covariancia', dtype = np.bool))\n",
        "sns.heatmap(returns.corr(), mask = mask, annot=True, linewidths=2 , fmt='.4', square = true, center = 0, linewidths = 0.25, ax = axis[1]);"
      ],
      "execution_count": 0,
      "outputs": []
    },
    {
      "cell_type": "code",
      "metadata": {
        "id": "ysw_p1x3Fhc2",
        "colab_type": "code",
        "colab": {}
      },
      "source": [
        "# COMPARAR OS ATIVOS EM RELAÇÃO A PREFORMANCE\n",
        "data = (pf_data/pf_data.iloc[0] * 100).plot(figsize=(10,10))"
      ],
      "execution_count": 0,
      "outputs": []
    },
    {
      "cell_type": "markdown",
      "metadata": {
        "id": "wSKWNqKzIW-F",
        "colab_type": "text"
      },
      "source": [
        "# CARTEIRA COM ATIVOS DE FUNDOS"
      ]
    },
    {
      "cell_type": "markdown",
      "metadata": {
        "id": "xPqEqudeIj1v",
        "colab_type": "text"
      },
      "source": [
        "## 1º CARTERIA COM 6 ATIVOS"
      ]
    },
    {
      "cell_type": "code",
      "metadata": {
        "id": "Pdd6odQnIiO4",
        "colab_type": "code",
        "colab": {}
      },
      "source": [
        "# INSERIR OS TICKERS DOS ATIVOS QUE SE DESEJAS ANALISAR\n",
        "ativos = ['inserir ticker dos ativos que desejo analisar']\n",
        "start = datetime.datetime(2009, 1, 1)\n",
        "end = datetime.datetime(2020, 2, 4)\n",
        "# DEFNIR A VARIAVEL, QUE RECBERÁ O PREÇO DOS ATIVOS COMO UM DATAFRAME:\n",
        "\n",
        "\n",
        "pf_data = pd.DataFrame(columns= ativos) \n",
        "\n",
        "for a in ativos:\n",
        "  pf_data[a] = wb.DataReader(a, data_source = 'yahoo', start= start, end= end)['Adj Close']\n",
        "\n",
        "# VERIFICAR EM QUAIS COLUNAS E EM QUE QUANTIDADE ESTÃO PRESENTES OS DADOS FALTANTES:\n",
        "pf_data.isnull().sum() "
      ],
      "execution_count": 0,
      "outputs": []
    },
    {
      "cell_type": "code",
      "metadata": {
        "id": "vMZF_JG3JMif",
        "colab_type": "code",
        "colab": {}
      },
      "source": [
        "# RETIRAR DADOS FALTANTES DO CONJUNTO DE DADOS:\n",
        "pf_data = pf_data.dropna(subset=['inserir os ativos que tem dados faltantes'])"
      ],
      "execution_count": 0,
      "outputs": []
    },
    {
      "cell_type": "code",
      "metadata": {
        "id": "JLghcRn_JP-u",
        "colab_type": "code",
        "colab": {}
      },
      "source": [
        "# CALCULAR OS RETORNOS DOS ATIVOS:\n",
        "returns = pd.DataFrame()\n",
        "for item in ativos:\n",
        "    returns[item ] = pf_data[item].pct_change()\n",
        "\n",
        "returns.corr()"
      ],
      "execution_count": 0,
      "outputs": []
    },
    {
      "cell_type": "code",
      "metadata": {
        "id": "4boXYM_2JT2W",
        "colab_type": "code",
        "colab": {}
      },
      "source": [
        "#  Crie um mapa de calor da correlação entre os preços de fechamento ajustado das ações. \n",
        "sns.heatmap(returns.corr(), annot=True, linewidths=2 , fmt='.4');\n",
        "mask = np.triu(np.ones_like('nome da matriz de covariancia', dtype = np.bool))\n",
        "sns.heatmap(returns.corr(), mask = mask, annot=True, linewidths=2 , fmt='.4', square = true, center = 0, linewidths = 0.25, ax = axis[1]);"
      ],
      "execution_count": 0,
      "outputs": []
    },
    {
      "cell_type": "code",
      "metadata": {
        "id": "nkK06UQmJXQv",
        "colab_type": "code",
        "colab": {}
      },
      "source": [
        "# COMPARAR OS ATIVOS EM RELAÇÃO AO EVOLUÇÃO DOS PREÇOS\n",
        "data = (pf_data/pf_data.iloc[0] * 100).plot(figsize=(10,10))"
      ],
      "execution_count": 0,
      "outputs": []
    },
    {
      "cell_type": "markdown",
      "metadata": {
        "id": "uaSuyIQIIplG",
        "colab_type": "text"
      },
      "source": [
        "2º CARTEIRA COM 10 ATIVOS"
      ]
    },
    {
      "cell_type": "code",
      "metadata": {
        "id": "_GSXYJohIxZA",
        "colab_type": "code",
        "colab": {}
      },
      "source": [
        "# INSERIR OS TICKERS DOS ATIVOS QUE SE DESEJAS ANALISAR\n",
        "ativos = ['inserir os ativos que quero analisar']\n",
        "start = datetime.datetime(2009, 1, 1)\n",
        "end = datetime.datetime(2020, 2, 4)\n",
        "# DEFNIR A VARIAVEL, QUE RECBERÁ O PREÇO DOS ATIVOS COMO UM DATAFRAME:\n",
        "\n",
        "\n",
        "pf_data = pd.DataFrame(columns= ativos) \n",
        "\n",
        "for a in ativos:\n",
        "  pf_data[a] = wb.DataReader(a, data_source = 'yahoo', start= start, end= end)['Adj Close']\n",
        "\n",
        "# VERIFICAR EM QUAIS COLUNAS E EM QUE QUANTIDADE ESTÃO PRESENTES OS DADOS FALTANTES:\n",
        "pf_data.isnull().sum() "
      ],
      "execution_count": 0,
      "outputs": []
    },
    {
      "cell_type": "code",
      "metadata": {
        "id": "VpnK6UDPMLRh",
        "colab_type": "code",
        "colab": {}
      },
      "source": [
        "# RETIRAR DADOS FALTANTES DO CONJUNTO DE DADOS:\n",
        "pf_data = pf_data.dropna(subset=['inserir ticker dos ativos que tem dados faltantes']])"
      ],
      "execution_count": 0,
      "outputs": []
    },
    {
      "cell_type": "code",
      "metadata": {
        "id": "a3hxx8ifMQeA",
        "colab_type": "code",
        "colab": {}
      },
      "source": [
        "# CALCULAR OS RETORNOS DOS ATIVOS:\n",
        "returns = pd.DataFrame()\n",
        "for item in ativos:\n",
        "    returns[item ] = pf_data[item].pct_change()\n",
        "\n",
        "returns.corr()"
      ],
      "execution_count": 0,
      "outputs": []
    },
    {
      "cell_type": "code",
      "metadata": {
        "id": "RlBmLthTMYUV",
        "colab_type": "code",
        "colab": {}
      },
      "source": [
        "#  Crie um mapa de calor da correlação entre os preços de fechamento ajustado das ações. \n",
        "sns.heatmap(returns.corr(), annot=True, linewidths=2 , fmt='.4');\n",
        "mask = np.triu(np.ones_like('nome da matriz de covariancia', dtype = np.bool))\n",
        "sns.heatmap(returns.corr(), mask = mask, annot=True, linewidths=2 , fmt='.4', square = true, center = 0, linewidths = 0.25, ax = axis[1]);"
      ],
      "execution_count": 0,
      "outputs": []
    },
    {
      "cell_type": "code",
      "metadata": {
        "id": "SUE8ClvOMdGN",
        "colab_type": "code",
        "colab": {}
      },
      "source": [
        "# COMPARAR OS ATIVOS EM RELAÇÃO AO EVOLUÇÃO DOS PREÇOS\n",
        "data = (pf_data/pf_data.iloc[0] * 100).plot(figsize=(10,10))"
      ],
      "execution_count": 0,
      "outputs": []
    }
  ]
}